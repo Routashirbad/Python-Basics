{
  "nbformat": 4,
  "nbformat_minor": 0,
  "metadata": {
    "colab": {
      "name": "Python.py",
      "provenance": [],
      "collapsed_sections": [],
      "authorship_tag": "ABX9TyNjI1LJjSWEuo+HRXUClWJu",
      "include_colab_link": true
    },
    "kernelspec": {
      "name": "python3",
      "display_name": "Python 3"
    }
  },
  "cells": [
    {
      "cell_type": "markdown",
      "metadata": {
        "id": "view-in-github",
        "colab_type": "text"
      },
      "source": [
        "<a href=\"https://colab.research.google.com/github/Routashirbad/Python-Basics/blob/main/Python_py.ipynb\" target=\"_parent\"><img src=\"https://colab.research.google.com/assets/colab-badge.svg\" alt=\"Open In Colab\"/></a>"
      ]
    },
    {
      "cell_type": "code",
      "metadata": {
        "id": "IEGYkjNEHXh2",
        "colab": {
          "base_uri": "https://localhost:8080/"
        },
        "outputId": "b11ac6b5-3322-4e91-eaab-67730ee00b33"
      },
      "source": [
        "# Write a Python program to get the Python version you are using.\r\n",
        "import sys\r\n",
        "print(\"Python version\")\r\n",
        "print (sys.version)\r\n",
        "print(\"Version info.\")\r\n",
        "print (sys.version_info)\r\n"
      ],
      "execution_count": 13,
      "outputs": [
        {
          "output_type": "stream",
          "text": [
            "Python version\n",
            "3.7.10 (default, Feb 20 2021, 21:17:23) \n",
            "[GCC 7.5.0]\n",
            "Version info.\n",
            "sys.version_info(major=3, minor=7, micro=10, releaselevel='final', serial=0)\n"
          ],
          "name": "stdout"
        }
      ]
    },
    {
      "cell_type": "code",
      "metadata": {
        "colab": {
          "base_uri": "https://localhost:8080/"
        },
        "id": "NzlDWBgpXE2t",
        "outputId": "ea45fb81-61d6-407e-91af-34e6713dd44c"
      },
      "source": [
        "# Write a Python program to display the current date and time.\r\n",
        "\r\n",
        "import datetime\r\n",
        "\r\n",
        "x = datetime.datetime.now()\r\n",
        "\r\n",
        "print(\"Current Date and Time :\")\r\n",
        "print(x)"
      ],
      "execution_count": 14,
      "outputs": [
        {
          "output_type": "stream",
          "text": [
            "Current Date and Time :\n",
            "2021-03-13 06:55:42.448006\n"
          ],
          "name": "stdout"
        }
      ]
    },
    {
      "cell_type": "code",
      "metadata": {
        "colab": {
          "base_uri": "https://localhost:8080/"
        },
        "id": "B0BA6wW9X9KT",
        "outputId": "8cb35f77-f5bc-42bc-fa68-47149d95a617"
      },
      "source": [
        "#Write a Python program which accepts the radius of a circle from the user and compute the area.\r\n",
        "\r\n",
        "from math import pi\r\n",
        "\r\n",
        "#radius of circle\r\n",
        "r = float(input())\r\n",
        "#area of circle\r\n",
        "Area = pi*r*r\r\n",
        "\r\n",
        "print(\"Area:\" + \" \" + str(Area))\r\n",
        "\r\n"
      ],
      "execution_count": 31,
      "outputs": [
        {
          "output_type": "stream",
          "text": [
            "1.1\n",
            "Area: 3.8013271108436504\n"
          ],
          "name": "stdout"
        }
      ]
    },
    {
      "cell_type": "code",
      "metadata": {
        "colab": {
          "base_uri": "https://localhost:8080/"
        },
        "id": "MOGSb4tKaUcQ",
        "outputId": "75764dd2-9291-4cf2-ff91-8281c62bdea2"
      },
      "source": [
        "#Write a Python program which accepts the user's first and last name and print them in reverse order with a space between them.\r\n",
        "\r\n",
        "#Asking for users first name\r\n",
        "fname = str(input())\r\n",
        "\r\n",
        "#Asking for users last name\r\n",
        "lname = str(input())\r\n",
        "\r\n",
        "print(lname + \" \" + fname)"
      ],
      "execution_count": 35,
      "outputs": [
        {
          "output_type": "stream",
          "text": [
            "NARUTO\n",
            "UZUMAKI\n",
            "UZUMAKI NARUTO\n"
          ],
          "name": "stdout"
        }
      ]
    },
    {
      "cell_type": "code",
      "metadata": {
        "colab": {
          "base_uri": "https://localhost:8080/"
        },
        "id": "3UbCIAUubEyw",
        "outputId": "c11bf1a7-56e1-4e92-e0de-c9a6526d8fbb"
      },
      "source": [
        "# Write a Python program which accepts a sequence of comma-separated numbers from user and generate a list and a tuple with those numbers.\r\n",
        "\r\n",
        "#Provide data separated by comas\r\n",
        "Numbers = input(\"Your given numbers are:\")\r\n",
        "\r\n",
        "#creating a list\r\n",
        "List1 = Numbers.split(\",\")\r\n",
        "\r\n",
        "#creating tuple\r\n",
        "Tuple1 = tuple(List1)\r\n",
        "\r\n",
        "print(\"List:\" , List1)\r\n",
        "print(\"Tuple:\" , Tuple1)"
      ],
      "execution_count": 38,
      "outputs": [
        {
          "output_type": "stream",
          "text": [
            "Your given numbers are:3,5,7,23\n",
            "List: ['3', '5', '7', '23']\n",
            "Tuple: ('3', '5', '7', '23')\n"
          ],
          "name": "stdout"
        }
      ]
    },
    {
      "cell_type": "code",
      "metadata": {
        "colab": {
          "base_uri": "https://localhost:8080/"
        },
        "id": "4wDG7yeVcieR",
        "outputId": "98e5a073-0cf1-4d71-b7d0-4dc2685bd2a5"
      },
      "source": [
        "#Write a Python program to accept a filename from the user and print the extension of that. \r\n",
        "\r\n",
        "#Asking to enter filename\r\n",
        "Filename = input(\"Enter your filename:\")\r\n",
        "\r\n",
        "#Extension separation\r\n",
        "Extens = Filename.split(\".\")\r\n",
        "\r\n",
        "print(\"Extension of your file is :\" + \" \" + str(Extens[-1]))"
      ],
      "execution_count": 42,
      "outputs": [
        {
          "output_type": "stream",
          "text": [
            "Enter your filename:abc.java\n",
            "Extension of your file is : java\n"
          ],
          "name": "stdout"
        }
      ]
    }
  ]
}