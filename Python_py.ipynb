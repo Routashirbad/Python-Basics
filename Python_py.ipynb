{
  "nbformat": 4,
  "nbformat_minor": 0,
  "metadata": {
    "colab": {
      "name": "Python.py",
      "provenance": [],
      "collapsed_sections": [],
      "authorship_tag": "ABX9TyOwLTum449AW8ZkUPXuwKrH",
      "include_colab_link": true
    },
    "kernelspec": {
      "name": "python3",
      "display_name": "Python 3"
    }
  },
  "cells": [
    {
      "cell_type": "markdown",
      "metadata": {
        "id": "view-in-github",
        "colab_type": "text"
      },
      "source": [
        "<a href=\"https://colab.research.google.com/github/Routashirbad/Python-Basics/blob/main/Python_py.ipynb\" target=\"_parent\"><img src=\"https://colab.research.google.com/assets/colab-badge.svg\" alt=\"Open In Colab\"/></a>"
      ]
    },
    {
      "cell_type": "code",
      "metadata": {
        "id": "IEGYkjNEHXh2",
        "colab": {
          "base_uri": "https://localhost:8080/"
        },
        "outputId": "b11ac6b5-3322-4e91-eaab-67730ee00b33"
      },
      "source": [
        "\r\n",
        "import sys\r\n",
        "print(\"Python version\")\r\n",
        "print (sys.version)\r\n",
        "print(\"Version info.\")\r\n",
        "print (sys.version_info)\r\n"
      ],
      "execution_count": 13,
      "outputs": [
        {
          "output_type": "stream",
          "text": [
            "Python version\n",
            "3.7.10 (default, Feb 20 2021, 21:17:23) \n",
            "[GCC 7.5.0]\n",
            "Version info.\n",
            "sys.version_info(major=3, minor=7, micro=10, releaselevel='final', serial=0)\n"
          ],
          "name": "stdout"
        }
      ]
    },
    {
      "cell_type": "code",
      "metadata": {
        "colab": {
          "base_uri": "https://localhost:8080/"
        },
        "id": "NzlDWBgpXE2t",
        "outputId": "ea45fb81-61d6-407e-91af-34e6713dd44c"
      },
      "source": [
        "# Write a Python program to display the current date and time.\r\n",
        "\r\n",
        "import datetime\r\n",
        "\r\n",
        "x = datetime.datetime.now()\r\n",
        "\r\n",
        "print(\"Current Date and Time :\")\r\n",
        "print(x)"
      ],
      "execution_count": 14,
      "outputs": [
        {
          "output_type": "stream",
          "text": [
            "Current Date and Time :\n",
            "2021-03-13 06:55:42.448006\n"
          ],
          "name": "stdout"
        }
      ]
    }
  ]
}