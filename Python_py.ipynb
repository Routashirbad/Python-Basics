{
  "nbformat": 4,
  "nbformat_minor": 0,
  "metadata": {
    "colab": {
      "name": "Python.py",
      "provenance": [],
      "collapsed_sections": [],
      "authorship_tag": "ABX9TyPmdSHKW2kNZt3s8hGy+Vri",
      "include_colab_link": true
    },
    "kernelspec": {
      "name": "python3",
      "display_name": "Python 3"
    }
  },
  "cells": [
    {
      "cell_type": "markdown",
      "metadata": {
        "id": "view-in-github",
        "colab_type": "text"
      },
      "source": [
        "<a href=\"https://colab.research.google.com/github/Routashirbad/Python-Basics/blob/main/Python_py.ipynb\" target=\"_parent\"><img src=\"https://colab.research.google.com/assets/colab-badge.svg\" alt=\"Open In Colab\"/></a>"
      ]
    },
    {
      "cell_type": "code",
      "metadata": {
        "id": "IEGYkjNEHXh2",
        "colab": {
          "base_uri": "https://localhost:8080/"
        },
        "outputId": "df783c45-d73d-43ce-9a76-5fe6507d31f0"
      },
      "source": [
        "import sys\r\n",
        "print(\"Python version\")\r\n",
        "print (sys.version)\r\n",
        "print(\"Version info.\")\r\n",
        "print (sys.version_info)\r\n"
      ],
      "execution_count": 11,
      "outputs": [
        {
          "output_type": "stream",
          "text": [
            "Python version\n",
            "3.7.10 (default, Feb 20 2021, 21:17:23) \n",
            "[GCC 7.5.0]\n",
            "Version info.\n",
            "sys.version_info(major=3, minor=7, micro=10, releaselevel='final', serial=0)\n"
          ],
          "name": "stdout"
        }
      ]
    }
  ]
}